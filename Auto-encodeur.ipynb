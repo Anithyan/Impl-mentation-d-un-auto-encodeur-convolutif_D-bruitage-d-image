{
  "nbformat": 4,
  "nbformat_minor": 0,
  "metadata": {
    "colab": {
      "name": "800_AE.ipynb",
      "provenance": [],
      "collapsed_sections": [
        "0roERR-ECm65",
        "3IPeqAoMCm67"
      ]
    },
    "kernelspec": {
      "display_name": "Python 3",
      "language": "python",
      "name": "python3"
    },
    "language_info": {
      "codemirror_mode": {
        "name": "ipython",
        "version": 3
      },
      "file_extension": ".py",
      "mimetype": "text/x-python",
      "name": "python",
      "nbconvert_exporter": "python",
      "pygments_lexer": "ipython3",
      "version": "3.7.3"
    }
  },
  "cells": [
    {
      "cell_type": "markdown",
      "metadata": {
        "id": "44Hx8gguCm6v"
      },
      "source": [
        "# C8. TP : Auto-Encodeur (en Keras, avec CNN)"
      ]
    },
    {
      "cell_type": "markdown",
      "metadata": {
        "id": "_UKzTuaACm62"
      },
      "source": [
        "# Partie 1 : AE-CNN sur données propres"
      ]
    },
    {
      "cell_type": "markdown",
      "metadata": {
        "id": "GJmlgHA4Cm62"
      },
      "source": [
        "## 1.1 Importation des modules"
      ]
    },
    {
      "cell_type": "code",
      "metadata": {
        "id": "HTsAhZIUCm63"
      },
      "source": [
        "# On importe les librairies nécessaires\n",
        "\n",
        "# Le dataset MNIST\n",
        "from tensorflow.keras.datasets import mnist\n",
        "\n",
        "# Les librairies TF pour le DL\n",
        "import tensorflow as tf\n",
        "from tensorflow.keras.layers import Input,Dense, Conv2D, Conv2DTranspose, MaxPooling2D, Flatten, UpSampling2D, Reshape\n",
        "from tensorflow.keras.models import Model,Sequential\n",
        "\n",
        "# Les librairies habituelles\n",
        "import numpy as np\n",
        "import matplotlib.pyplot as plt\n",
        "\n",
        "# On configure la session pour l'utilisation de GPU\n",
        "#config = tf.ConfigProto()\n",
        "#config.gpu_options.allow_growth = True\n",
        "#session = tf.Session(config=config)\n",
        "\n",
        "# On désactive les warnings\n",
        "import warnings\n",
        "warnings.filterwarnings('ignore')"
      ],
      "execution_count": 1,
      "outputs": []
    },
    {
      "cell_type": "markdown",
      "metadata": {
        "id": "0roERR-ECm65"
      },
      "source": [
        "## 1.2 Définition de fonctions nécessaires"
      ]
    },
    {
      "cell_type": "code",
      "metadata": {
        "id": "IizO-oRSCm66"
      },
      "source": [
        "def MNIST_AE_disp(img_in, img_out, img_idx):\n",
        "\n",
        "    num_img = len(img_idx)\n",
        "    plt.figure(figsize=(18, 4))\n",
        "\n",
        "    for i, image_idx in enumerate(img_idx):\n",
        "        # on trace l'image originale\n",
        "        ax = plt.subplot(2, num_img, i + 1)\n",
        "        plt.imshow(img_in[image_idx].reshape(28, 28))\n",
        "        plt.gray()\n",
        "        ax.get_xaxis().set_visible(False)\n",
        "        ax.get_yaxis().set_visible(False)\n",
        "\n",
        "        # on trace l'image bruitée\n",
        "        ax = plt.subplot(2, num_img, num_img + i + 1)\n",
        "        plt.imshow(img_out[image_idx].reshape(28, 28))\n",
        "        plt.gray()\n",
        "        ax.get_xaxis().set_visible(False)\n",
        "        ax.get_yaxis().set_visible(False)\n",
        "    plt.show()\n"
      ],
      "execution_count": 2,
      "outputs": []
    },
    {
      "cell_type": "markdown",
      "metadata": {
        "id": "3IPeqAoMCm67"
      },
      "source": [
        "## 1.3 Chargement et formatage des données (propres)"
      ]
    },
    {
      "cell_type": "code",
      "metadata": {
        "colab": {
          "base_uri": "https://localhost:8080/"
        },
        "id": "NYu2srgvCm69",
        "outputId": "1c8dd84f-f21f-46f0-a8c5-1862553211b4"
      },
      "source": [
        "# On charge les données de MNIST (incluses dans Keras)\n",
        "(x_train, y_train), (x_test, y_test) = mnist.load_data()\n",
        "\n",
        "# On normalise les valeurs des pixels de [0, 255] à [0, 1]\n",
        "x_train=x_train.astype('float32')/float(x_train.max())\n",
        "x_test=x_test.astype('float32')/float(x_test.max())\n",
        "\n",
        "# POUR LES CNN : On rajoute une dimension pour spécifier qu'il s'agit d'imgages en NdG\n",
        "x_train=x_train.reshape(len(x_train),x_train.shape[1], x_train.shape[2], 1)\n",
        "x_test=x_test.reshape(len(x_test),x_test.shape[1], x_test.shape[2], 1)\n",
        "\n",
        "# On inspecte les dimensions de nos données\n",
        "# Base d'entrainement : 60,000 images de dimension (28,28)\n",
        "# Base de test : 10,000 images de dimension (28,28)\n",
        "print(\"Training set : \",x_train.shape)\n",
        "print(\"Testing set : \",x_test.shape)\n"
      ],
      "execution_count": 3,
      "outputs": [
        {
          "output_type": "stream",
          "name": "stdout",
          "text": [
            "Downloading data from https://storage.googleapis.com/tensorflow/tf-keras-datasets/mnist.npz\n",
            "11493376/11490434 [==============================] - 0s 0us/step\n",
            "11501568/11490434 [==============================] - 0s 0us/step\n",
            "Training set :  (60000, 28, 28, 1)\n",
            "Testing set :  (10000, 28, 28, 1)\n"
          ]
        }
      ]
    },
    {
      "cell_type": "markdown",
      "metadata": {
        "id": "qVP2XTK4Cm6-"
      },
      "source": [
        "## 1.4 Création du réseau CNN"
      ]
    },
    {
      "cell_type": "code",
      "metadata": {
        "colab": {
          "base_uri": "https://localhost:8080/"
        },
        "id": "tfibw0FjCm6_",
        "outputId": "f52797f4-ed59-4e62-f4d8-1f07bef31305"
      },
      "source": [
        "model = Sequential()\n",
        "\n",
        "# Encoder ?\n",
        "model.add(Conv2D(16, (3,3), activation='relu', padding='same', input_shape=(28, 28, 1)))\n",
        "model.add(MaxPooling2D((2,2)))\n",
        "model.add(Conv2D(8, (3,3), activation='relu', padding='same'))\n",
        "\n",
        "# Decoder ?\n",
        "model.add(Conv2D(16, (3,3), activation='relu', padding='same'))\n",
        "model.add(UpSampling2D((2,2)))\n",
        "model.add(Conv2D(1, (3,3), activation='relu', padding='same'))\n",
        "\n",
        "model.summary()"
      ],
      "execution_count": 4,
      "outputs": [
        {
          "output_type": "stream",
          "name": "stdout",
          "text": [
            "Model: \"sequential\"\n",
            "_________________________________________________________________\n",
            "Layer (type)                 Output Shape              Param #   \n",
            "=================================================================\n",
            "conv2d (Conv2D)              (None, 28, 28, 16)        160       \n",
            "_________________________________________________________________\n",
            "max_pooling2d (MaxPooling2D) (None, 14, 14, 16)        0         \n",
            "_________________________________________________________________\n",
            "conv2d_1 (Conv2D)            (None, 14, 14, 8)         1160      \n",
            "_________________________________________________________________\n",
            "conv2d_2 (Conv2D)            (None, 14, 14, 16)        1168      \n",
            "_________________________________________________________________\n",
            "up_sampling2d (UpSampling2D) (None, 28, 28, 16)        0         \n",
            "_________________________________________________________________\n",
            "conv2d_3 (Conv2D)            (None, 28, 28, 1)         145       \n",
            "=================================================================\n",
            "Total params: 2,633\n",
            "Trainable params: 2,633\n",
            "Non-trainable params: 0\n",
            "_________________________________________________________________\n"
          ]
        }
      ]
    },
    {
      "cell_type": "code",
      "metadata": {
        "id": "azznWIiBMZ61"
      },
      "source": [
        "model.compile(optimizer='adam',\n",
        "              loss=tf.keras.losses.BinaryCrossentropy(),\n",
        "              metrics=['accuracy'])"
      ],
      "execution_count": 5,
      "outputs": []
    },
    {
      "cell_type": "markdown",
      "metadata": {
        "id": "8aOPrFMNCm6_"
      },
      "source": [
        "## 1.5 Apprentissage du réseau"
      ]
    },
    {
      "cell_type": "code",
      "metadata": {
        "colab": {
          "base_uri": "https://localhost:8080/"
        },
        "id": "Cru9YNOeCm7A",
        "outputId": "19cb8d42-4a6c-475f-c6d5-ff02fde93844"
      },
      "source": [
        "# On entraine le réseau\n",
        "batch_size = 256                                                             # tailles des mini-batch\n",
        "epochs = 5                                                                 # nombre d'époques\n",
        "history = model.fit(x_train, x_train, epochs=epochs, batch_size=batch_size,\n",
        "                    validation_split=0.2)"
      ],
      "execution_count": 6,
      "outputs": [
        {
          "output_type": "stream",
          "name": "stdout",
          "text": [
            "Epoch 1/5\n",
            "188/188 [==============================] - 55s 286ms/step - loss: 0.1459 - accuracy: 0.8127 - val_loss: 0.0930 - val_accuracy: 0.8156\n",
            "Epoch 2/5\n",
            "188/188 [==============================] - 53s 281ms/step - loss: 0.0867 - accuracy: 0.8150 - val_loss: 0.0827 - val_accuracy: 0.8160\n",
            "Epoch 3/5\n",
            "188/188 [==============================] - 53s 280ms/step - loss: 0.0819 - accuracy: 0.8151 - val_loss: 0.0793 - val_accuracy: 0.8161\n",
            "Epoch 4/5\n",
            "188/188 [==============================] - 53s 282ms/step - loss: 0.0815 - accuracy: 0.8152 - val_loss: 0.0787 - val_accuracy: 0.8160\n",
            "Epoch 5/5\n",
            "188/188 [==============================] - 53s 283ms/step - loss: 0.0776 - accuracy: 0.8152 - val_loss: 0.0760 - val_accuracy: 0.8161\n"
          ]
        }
      ]
    },
    {
      "cell_type": "markdown",
      "metadata": {
        "id": "N-uvQlUlCm7A"
      },
      "source": [
        "## 1.6 Prédiction par le réseau"
      ]
    },
    {
      "cell_type": "code",
      "metadata": {
        "colab": {
          "base_uri": "https://localhost:8080/"
        },
        "id": "93PHgwR3Cm7B",
        "outputId": "08704a87-43fc-4788-d4c1-3e615f44b4d8"
      },
      "source": [
        "autoencoder = model\n",
        "# On génère un jeu de 10 images test au hasard\n",
        "num_images=10\n",
        "np.random.seed(42)\n",
        "random_test_images=np.random.randint(x_test.shape[0], size=num_images)\n",
        "\n",
        "# On détermine l'image encodée et l'image décodée\n",
        "decoded_img=autoencoder.predict(x_test)\n",
        "m = tf.keras.metrics.Accuracy()\n",
        "_ = m.update_state(decoded_img, x_test)\n",
        "print(m.result().numpy())"
      ],
      "execution_count": 7,
      "outputs": [
        {
          "output_type": "stream",
          "name": "stdout",
          "text": [
            "0.7895121\n"
          ]
        }
      ]
    },
    {
      "cell_type": "markdown",
      "metadata": {
        "id": "i8W2f0GUCm7B"
      },
      "source": [
        "## 1.7 Visualisation"
      ]
    },
    {
      "cell_type": "code",
      "metadata": {
        "colab": {
          "base_uri": "https://localhost:8080/",
          "height": 238
        },
        "id": "fGcOywU0Cm7C",
        "outputId": "e13af372-69ac-4f16-9f2f-262df1251b74"
      },
      "source": [
        "MNIST_AE_disp(x_test, decoded_img, [i for i in range(10)])"
      ],
      "execution_count": 8,
      "outputs": [
        {
          "output_type": "display_data",
          "data": {
            "image/png": "[encoded data removed]",
            "text/plain": [
              "<Figure size 1296x288 with 20 Axes>"
            ]
          },
          "metadata": {
            "needs_background": "light"
          }
        }
      ]
    },
    {
      "cell_type": "markdown",
      "metadata": {
        "id": "EuB1Ws6ZCm7C"
      },
      "source": [
        "# Partie 2 : Vers le Denoising AE"
      ]
    },
    {
      "cell_type": "markdown",
      "metadata": {
        "id": "XU_iQW6_Cm7C"
      },
      "source": [
        "## 2.1 Création des données bruitées"
      ]
    },
    {
      "cell_type": "code",
      "metadata": {
        "id": "baK0i3SrCm7D"
      },
      "source": [
        "x_test_noise = x_test +  np.random.normal(0, .1, x_test.shape)\n",
        "x_train_noise = x_train +  np.random.normal(0, .1, x_train.shape)"
      ],
      "execution_count": 9,
      "outputs": []
    },
    {
      "cell_type": "markdown",
      "metadata": {
        "id": "dDimQbYkCm7D"
      },
      "source": [
        "## 2.2 Prédictions à partir des données bruitées"
      ]
    },
    {
      "cell_type": "code",
      "metadata": {
        "colab": {
          "base_uri": "https://localhost:8080/"
        },
        "id": "gBFFqCiOCm7D",
        "outputId": "284dbb9f-852f-40c7-b523-91082b3d88a0"
      },
      "source": [
        "autoencoder = model\n",
        "# On génère un jeu de 10 images test au hasard\n",
        "num_images=10\n",
        "np.random.seed(42)\n",
        "random_test_images=np.random.randint(x_test_noise.shape[0], size=num_images)\n",
        "\n",
        "# On détermine l'image encodée et l'image décodée\n",
        "decoded_img=autoencoder.predict(x_test_noise)\n",
        "m1 = tf.keras.metrics.Accuracy()\n",
        "_ = m1.update_state(decoded_img, x_test_noise)\n",
        "print(m1.result().numpy())"
      ],
      "execution_count": 10,
      "outputs": [
        {
          "output_type": "stream",
          "name": "stdout",
          "text": [
            "0.0\n"
          ]
        }
      ]
    },
    {
      "cell_type": "code",
      "metadata": {
        "colab": {
          "base_uri": "https://localhost:8080/",
          "height": 238
        },
        "id": "XWatSC0rQpVV",
        "outputId": "63612338-a2ad-4212-b395-055000c81757"
      },
      "source": [
        "MNIST_AE_disp(x_test_noise, decoded_img, [i for i in range(10)])"
      ],
      "execution_count": 11,
      "outputs": [
        {
          "output_type": "display_data",
          "data": {
            "image/png": "[encoded data removed]",
            "text/plain": [
              "<Figure size 1296x288 with 20 Axes>"
            ]
          },
          "metadata": {
            "needs_background": "light"
          }
        }
      ]
    },
    {
      "cell_type": "markdown",
      "metadata": {
        "id": "fBYOJ1icCm7E"
      },
      "source": [
        "## 2.3 Apprentissage du réseaux DAE"
      ]
    },
    {
      "cell_type": "code",
      "metadata": {
        "colab": {
          "base_uri": "https://localhost:8080/"
        },
        "id": "TByzE_GNkEuP",
        "outputId": "03fae60d-0146-466f-f11e-8601fef316f7"
      },
      "source": [
        "model = Sequential()\n",
        "\n",
        "# Encoder ?\n",
        "model.add(Conv2D(16, (3,3), activation='relu', padding='same', input_shape=(28, 28, 1)))\n",
        "model.add(MaxPooling2D((2,2)))\n",
        "model.add(Conv2D(8, (3,3), activation='relu', padding='same'))\n",
        "\n",
        "# Decoder ?\n",
        "model.add(Conv2D(16, (3,3), activation='relu', padding='same'))\n",
        "model.add(UpSampling2D((2,2)))\n",
        "model.add(Conv2D(1, (3,3), activation='relu', padding='same'))\n",
        "\n",
        "model.summary()\n",
        "\n",
        "model.compile(optimizer='adam',\n",
        "              loss=tf.keras.losses.BinaryCrossentropy(),\n",
        "              metrics=['accuracy'])"
      ],
      "execution_count": 12,
      "outputs": [
        {
          "output_type": "stream",
          "name": "stdout",
          "text": [
            "Model: \"sequential_1\"\n",
            "_________________________________________________________________\n",
            "Layer (type)                 Output Shape              Param #   \n",
            "=================================================================\n",
            "conv2d_4 (Conv2D)            (None, 28, 28, 16)        160       \n",
            "_________________________________________________________________\n",
            "max_pooling2d_1 (MaxPooling2 (None, 14, 14, 16)        0         \n",
            "_________________________________________________________________\n",
            "conv2d_5 (Conv2D)            (None, 14, 14, 8)         1160      \n",
            "_________________________________________________________________\n",
            "conv2d_6 (Conv2D)            (None, 14, 14, 16)        1168      \n",
            "_________________________________________________________________\n",
            "up_sampling2d_1 (UpSampling2 (None, 28, 28, 16)        0         \n",
            "_________________________________________________________________\n",
            "conv2d_7 (Conv2D)            (None, 28, 28, 1)         145       \n",
            "=================================================================\n",
            "Total params: 2,633\n",
            "Trainable params: 2,633\n",
            "Non-trainable params: 0\n",
            "_________________________________________________________________\n"
          ]
        }
      ]
    },
    {
      "cell_type": "code",
      "metadata": {
        "id": "ZChdSvA1Cm7E",
        "colab": {
          "base_uri": "https://localhost:8080/"
        },
        "outputId": "e24ae613-3bad-4c36-a52f-18f3ad09485a"
      },
      "source": [
        "# On entraine le réseau\n",
        "batch_size = 256                                                             # tailles des mini-batch\n",
        "epochs = 5                                                                 # nombre d'époques\n",
        "history = model.fit(x_train_noise, x_train_noise, epochs=epochs, batch_size=batch_size,\n",
        "                    validation_split=0.2)"
      ],
      "execution_count": 13,
      "outputs": [
        {
          "output_type": "stream",
          "name": "stdout",
          "text": [
            "Epoch 1/5\n",
            "188/188 [==============================] - 54s 287ms/step - loss: 0.0865 - accuracy: 0.0000e+00 - val_loss: -0.0287 - val_accuracy: 0.0000e+00\n",
            "Epoch 2/5\n",
            "188/188 [==============================] - 54s 286ms/step - loss: -0.0425 - accuracy: 0.0000e+00 - val_loss: -0.0570 - val_accuracy: 0.0000e+00\n",
            "Epoch 3/5\n",
            "188/188 [==============================] - 54s 285ms/step - loss: -0.0751 - accuracy: 0.0000e+00 - val_loss: -0.0884 - val_accuracy: 0.0000e+00\n",
            "Epoch 4/5\n",
            "188/188 [==============================] - 54s 285ms/step - loss: -0.0858 - accuracy: 0.0000e+00 - val_loss: -0.1054 - val_accuracy: 0.0000e+00\n",
            "Epoch 5/5\n",
            "188/188 [==============================] - 54s 286ms/step - loss: -0.1002 - accuracy: 0.0000e+00 - val_loss: -0.1148 - val_accuracy: 0.0000e+00\n"
          ]
        }
      ]
    },
    {
      "cell_type": "markdown",
      "metadata": {
        "id": "MGN9-7i2Cm7E"
      },
      "source": [
        "## 2.4 Prédiction et visualisation à partir des données bruitées"
      ]
    },
    {
      "cell_type": "code",
      "metadata": {
        "id": "y87uOjNHCm7E",
        "colab": {
          "base_uri": "https://localhost:8080/"
        },
        "outputId": "86b3bb06-746c-4bcd-b583-e9bcc5ac2eb9"
      },
      "source": [
        "autoencoder = model\n",
        "# On génère un jeu de 10 images test au hasard\n",
        "num_images=10\n",
        "np.random.seed(42)\n",
        "random_test_images=np.random.randint(x_test_noise.shape[0], size=num_images)\n",
        "\n",
        "# On détermine l'image encodée et l'image décodée\n",
        "decoded_img=autoencoder.predict(x_test_noise)\n",
        "m2 = tf.keras.metrics.Accuracy()\n",
        "_ = m2.update_state(decoded_img, x_test_noise)\n",
        "print(m2.result().numpy())"
      ],
      "execution_count": 14,
      "outputs": [
        {
          "output_type": "stream",
          "name": "stdout",
          "text": [
            "0.0\n"
          ]
        }
      ]
    },
    {
      "cell_type": "code",
      "metadata": {
        "id": "AOskgw2EoyQc",
        "colab": {
          "base_uri": "https://localhost:8080/",
          "height": 238
        },
        "outputId": "569ba828-f9fb-403f-aa74-7aedfba48f65"
      },
      "source": [
        "MNIST_AE_disp(x_test_noise, decoded_img, [i for i in range(10)])"
      ],
      "execution_count": 16,
      "outputs": [
        {
          "output_type": "display_data",
          "data": {
            "image/png": "[encoded data removed]",
            "text/plain": [
              "<Figure size 1296x288 with 20 Axes>"
            ]
          },
          "metadata": {
            "needs_background": "light"
          }
        }
      ]
    },
    {
      "cell_type": "code",
      "metadata": {
        "id": "l3noHHDXo2hb"
      },
      "source": [
        ""
      ],
      "execution_count": 15,
      "outputs": []
    }
  ]
}